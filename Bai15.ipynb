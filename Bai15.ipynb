{
 "cells": [
  {
   "cell_type": "code",
   "execution_count": 3,
   "id": "9422b34d-e7e3-4216-bfa9-eba43faeb456",
   "metadata": {},
   "outputs": [],
   "source": [
    "#!pip install scipy\n",
    "from scipy import linalg\n",
    "import numpy as np"
   ]
  },
  {
   "cell_type": "code",
   "execution_count": 4,
   "id": "3bbd1a77-4ab8-4136-bed8-19b20480397c",
   "metadata": {},
   "outputs": [
    {
     "name": "stdout",
     "output_type": "stream",
     "text": [
      "Kết quả:  [ 6. -1.]\n"
     ]
    }
   ],
   "source": [
    "a = np.array([[1, 2],[2, 3]])\n",
    "b = np.array([4,9])\n",
    "x = linalg.solve(a, b)\n",
    "print(\"Kết quả: \", x)"
   ]
  },
  {
   "cell_type": "code",
   "execution_count": 5,
   "id": "1d6c251e-7790-4637-a773-c2843b83b614",
   "metadata": {},
   "outputs": [
    {
     "name": "stdout",
     "output_type": "stream",
     "text": [
      "Tích phân f(x) từ 0 đến 1:  (0.33333333333333337, 3.700743415417189e-15)\n"
     ]
    }
   ],
   "source": [
    "from scipy import integrate\n",
    "def my_func(x):\n",
    "    return x**2\n",
    "\n",
    "integral = integrate.quad(my_func, 0, 1);\n",
    "print(\"Tích phân f(x) từ 0 đến 1: \", integral)"
   ]
  },
  {
   "cell_type": "code",
   "execution_count": 7,
   "id": "628e485c-78c5-40f6-98d7-79ccf3a9e650",
   "metadata": {},
   "outputs": [
    {
     "name": "stdout",
     "output_type": "stream",
     "text": [
      "Giá trị riêng:  [ 5.37228132+0.j -0.37228132+0.j]\n",
      "Vector riêng:  [[ 0.64456735 -0.51010647]\n",
      " [ 0.76454754  0.86011126]]\n"
     ]
    }
   ],
   "source": [
    "#!pip install scipy\n",
    "from scipy import linalg\n",
    "import numpy as np\n",
    "\n",
    "A = np.array([[3,2], [4,2]])\n",
    "evals, evecs = linalg.eig(A)\n",
    "\n",
    "print(\"Giá trị riêng: \", evals)\n",
    "print(\"Vector riêng: \", evecs)"
   ]
  },
  {
   "cell_type": "code",
   "execution_count": null,
   "id": "4a21b0f6-9933-46a9-8888-7546bc1b417d",
   "metadata": {},
   "outputs": [],
   "source": []
  }
 ],
 "metadata": {
  "kernelspec": {
   "display_name": "Python 3 (ipykernel)",
   "language": "python",
   "name": "python3"
  },
  "language_info": {
   "codemirror_mode": {
    "name": "ipython",
    "version": 3
   },
   "file_extension": ".py",
   "mimetype": "text/x-python",
   "name": "python",
   "nbconvert_exporter": "python",
   "pygments_lexer": "ipython3",
   "version": "3.12.4"
  }
 },
 "nbformat": 4,
 "nbformat_minor": 5
}
