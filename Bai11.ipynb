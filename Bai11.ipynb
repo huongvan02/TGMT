{
 "cells": [
  {
   "cell_type": "code",
   "execution_count": 1,
   "id": "205fa518-e7bf-4e1b-8d90-949dbcf9faa6",
   "metadata": {},
   "outputs": [],
   "source": [
    "import numpy as np"
   ]
  },
  {
   "cell_type": "code",
   "execution_count": 2,
   "id": "5fde1702-1d8e-403f-8bd0-4305dd799a46",
   "metadata": {},
   "outputs": [],
   "source": [
    "arr = np.array([2,4,6,8])"
   ]
  },
  {
   "cell_type": "code",
   "execution_count": 3,
   "id": "7537df3d-3c50-4b85-85ea-8c4bb53de5a4",
   "metadata": {},
   "outputs": [
    {
     "name": "stdout",
     "output_type": "stream",
     "text": [
      "Mảng:  [2 4 6 8]\n"
     ]
    }
   ],
   "source": [
    "print(\"Mảng: \", arr)"
   ]
  },
  {
   "cell_type": "code",
   "execution_count": 4,
   "id": "d15f5300-c5c5-48a1-8fb3-aeb3c7877791",
   "metadata": {},
   "outputs": [
    {
     "name": "stdout",
     "output_type": "stream",
     "text": [
      "Phần tử ở vị trí số 2:  6\n"
     ]
    }
   ],
   "source": [
    "print(\"Phần tử ở vị trí số 2: \", arr[2])"
   ]
  },
  {
   "cell_type": "code",
   "execution_count": 5,
   "id": "12a912e4-f316-4433-bd53-098596aa56ae",
   "metadata": {},
   "outputs": [
    {
     "name": "stdout",
     "output_type": "stream",
     "text": [
      "Mảng 2 chiều:\n",
      "[[1 3 5]\n",
      " [2 4 6]\n",
      " [7 8 9]]\n",
      "Phần tử ở hàng 2 cột 1:  8\n"
     ]
    }
   ],
   "source": [
    "matrix = np.array([[1, 3, 5], [2, 4, 6], [7, 8, 9]])\n",
    "print(\"Mảng 2 chiều:\")\n",
    "print(matrix)\n",
    "\n",
    "e = matrix[2, 1]\n",
    "print(\"Phần tử ở hàng 2 cột 1: \", e)"
   ]
  },
  {
   "cell_type": "code",
   "execution_count": 6,
   "id": "f408eef0-446b-400a-b326-5a0988c856ef",
   "metadata": {},
   "outputs": [
    {
     "name": "stdout",
     "output_type": "stream",
     "text": [
      "Mảng có 10 số 0:  [0. 0. 0. 0. 0. 0. 0. 0. 0. 0.]\n",
      "Mảng có 3 số 1:  [1. 1. 1.]\n",
      "Mảng rỗng:  [6.23042070e-307 4.67296746e-307 1.69121096e-306 1.33511562e-306\n",
      " 3.59412945e-317]\n",
      "Mảng tăng dần từ 0 đến 29 [ 0  1  2  3  4  5  6  7  8  9 10 11 12 13 14 15 16 17 18 19 20 21 22 23\n",
      " 24 25 26 27 28 29]\n",
      "Mảng gồm 4 số có khoảng cách bằng nhau:  [ 3.  6.  9. 12.]\n"
     ]
    },
    {
     "data": {
      "text/plain": [
       "array([1, 1, 1], dtype=int64)"
      ]
     },
     "execution_count": 6,
     "metadata": {},
     "output_type": "execute_result"
    }
   ],
   "source": [
    "arr = np.zeros(10)\n",
    "print(\"Mảng có 10 số 0: \", arr)\n",
    "\n",
    "arr = np.ones(3)\n",
    "print(\"Mảng có 3 số 1: \", arr)\n",
    "\n",
    "arr = np.empty(5)\n",
    "print(\"Mảng rỗng: \", arr)\n",
    "\n",
    "arr = np.arange(30)\n",
    "print(\"Mảng tăng dần từ 0 đến 29\", arr)\n",
    "\n",
    "arr = np.linspace(3, 12, num=4)\n",
    "print(\"Mảng gồm 4 số có khoảng cách bằng nhau: \", arr)\n",
    "\n",
    "arr = np.ones(3, dtype=np.int64)\n",
    "arr"
   ]
  },
  {
   "cell_type": "code",
   "execution_count": 7,
   "id": "f07905fc-9590-4a30-9bbf-ea5f4ab32569",
   "metadata": {},
   "outputs": [
    {
     "name": "stdout",
     "output_type": "stream",
     "text": [
      "Mảng:  [1 5 3 7 9]\n"
     ]
    }
   ],
   "source": [
    "arr = np.array([1, 5, 3, 7, 9])\n",
    "print(\"Mảng: \", arr)"
   ]
  },
  {
   "cell_type": "code",
   "execution_count": 10,
   "id": "88dce844-ae13-4eab-8fa7-d0f27f5d04ca",
   "metadata": {},
   "outputs": [
    {
     "name": "stdout",
     "output_type": "stream",
     "text": [
      "Sắp xếp tăng dần:  [1 3 5 7 9]\n"
     ]
    }
   ],
   "source": [
    "arr = np.sort(arr)\n",
    "print(\"Sắp xếp tăng dần: \", arr)"
   ]
  },
  {
   "cell_type": "code",
   "execution_count": 11,
   "id": "62eb12af-b01d-4c11-857a-1921445faed0",
   "metadata": {},
   "outputs": [
    {
     "name": "stdout",
     "output_type": "stream",
     "text": [
      "Sắp xếp ngược:  [9 7 5 3 1]\n"
     ]
    }
   ],
   "source": [
    "arr = np.sort(arr)[::-1]\n",
    "print(\"Sắp xếp ngược: \", arr)"
   ]
  },
  {
   "cell_type": "code",
   "execution_count": 12,
   "id": "46f25f54-ce01-4352-a866-c635a56df7c5",
   "metadata": {},
   "outputs": [
    {
     "name": "stdout",
     "output_type": "stream",
     "text": [
      "Thêm phần tử vào cuối mảng:  [ 9  7  5  3  1 11]\n"
     ]
    }
   ],
   "source": [
    "arr = np.append(arr, 11)\n",
    "print(\"Thêm phần tử vào cuối mảng: \", arr)"
   ]
  },
  {
   "cell_type": "code",
   "execution_count": 13,
   "id": "c3bf1fb6-b54b-43e9-90f9-4294eeed081a",
   "metadata": {},
   "outputs": [
    {
     "name": "stdout",
     "output_type": "stream",
     "text": [
      "Xóa phần tử ở vị trí số 4:  [ 9  7  5  3 11]\n"
     ]
    }
   ],
   "source": [
    "arr = np.delete(arr, 4)\n",
    "print(\"Xóa phần tử ở vị trí số 4: \", arr)"
   ]
  },
  {
   "cell_type": "code",
   "execution_count": 16,
   "id": "ab29304a-bb1f-4910-a2a3-4f5b786f860d",
   "metadata": {},
   "outputs": [
    {
     "name": "stdout",
     "output_type": "stream",
     "text": [
      "Sắp xếp hàng tăng dần: \n",
      "[[7 8 9]\n",
      " [1 2 3]\n",
      " [4 5 6]]\n",
      "Sắp xếp cột tăng dần: \n",
      "[[3 1 2]\n",
      " [5 6 4]\n",
      " [9 7 8]]\n",
      "Sắp xếp hàng giảm dần: \n",
      "[[9 8 7]\n",
      " [3 2 1]\n",
      " [6 5 4]]\n",
      "Sắp xếp cột giảm dần: \n",
      "[[9 7 8]\n",
      " [5 6 4]\n",
      " [3 1 2]]\n"
     ]
    }
   ],
   "source": [
    "arr = np.array([[9, 7, 8],\n",
    "                [3, 1, 2],\n",
    "                [5, 6, 4]])\n",
    "\n",
    "sorted_by_row = np.sort(arr, axis=1)\n",
    "print(\"Sắp xếp hàng tăng dần: \")\n",
    "print(sorted_by_row)\n",
    "\n",
    "sorted_by_column = np.sort(arr, axis=0)\n",
    "print(\"Sắp xếp cột tăng dần: \")\n",
    "print(sorted_by_column)\n",
    "\n",
    "sorted_by_row = -np.sort(-arr, axis=1)\n",
    "print(\"Sắp xếp hàng giảm dần: \")\n",
    "print(sorted_by_row)\n",
    "\n",
    "sorted_by_row = -np.sort(-arr, axis=0)\n",
    "print(\"Sắp xếp cột giảm dần: \")\n",
    "print(sorted_by_row)"
   ]
  },
  {
   "cell_type": "code",
   "execution_count": 18,
   "id": "129983e2-3096-491e-9209-be3a7a6b4aa9",
   "metadata": {},
   "outputs": [
    {
     "name": "stdout",
     "output_type": "stream",
     "text": [
      "Số chiều:  2\n",
      "Kích thước:  6\n",
      "Số hàng - số cột:  (2, 3)\n"
     ]
    }
   ],
   "source": [
    "arr = np.array([[1, 3, 5], [2, 4, 6]])\n",
    "ndim = arr.ndim\n",
    "size = arr.size\n",
    "shape = arr.shape\n",
    "\n",
    "print(\"Số chiều: \", ndim)\n",
    "print(\"Kích thước: \", size)\n",
    "print(\"Số hàng - số cột: \", shape)"
   ]
  },
  {
   "cell_type": "code",
   "execution_count": 19,
   "id": "3a8b67dc-e450-483b-8ecb-72fed15a3cfe",
   "metadata": {},
   "outputs": [
    {
     "name": "stdout",
     "output_type": "stream",
     "text": [
      "Đổi kiểu dữ liệu mảng:  [1. 2. 3. 4. 5.]\n"
     ]
    }
   ],
   "source": [
    "arr = np.array([1, 2, 3, 4, 5])\n",
    "float_arr = arr.astype(float)\n",
    "print(\"Đổi kiểu dữ liệu mảng: \", float_arr)"
   ]
  },
  {
   "cell_type": "code",
   "execution_count": 22,
   "id": "9b87cc13-3d51-458d-81ea-e828c745d9d1",
   "metadata": {},
   "outputs": [
    {
     "name": "stdout",
     "output_type": "stream",
     "text": [
      "Đổi thành mảng 2 chiều có 2 hàng 3 cột:\n",
      "[[1 2 3]\n",
      " [4 5 6]]\n",
      "Đổi thành mảng 2 chiều có 3 hàng 2 cột:\n",
      "[[1 2]\n",
      " [3 4]\n",
      " [5 6]]\n"
     ]
    }
   ],
   "source": [
    "arr = np.array([1, 2, 3, 4, 5, 6])\n",
    "reshaped_arr = arr.reshape(2,3)\n",
    "print(\"Đổi thành mảng 2 chiều có 2 hàng 3 cột:\")\n",
    "print(reshaped_arr)\n",
    "reshaped_arr = arr.reshape(3,2)\n",
    "print(\"Đổi thành mảng 2 chiều có 3 hàng 2 cột:\")\n",
    "print(reshaped_arr)"
   ]
  },
  {
   "cell_type": "code",
   "execution_count": 23,
   "id": "d8a2fa55-9ab3-4be1-83e9-48e2d483a8cf",
   "metadata": {},
   "outputs": [
    {
     "name": "stdout",
     "output_type": "stream",
     "text": [
      "Đổi mảng 2 chiều thành 1 chiều:  [1 2 3 4 5 6]\n"
     ]
    }
   ],
   "source": [
    "reshaped_arr = reshaped_arr.flatten()\n",
    "print(\"Đổi mảng 2 chiều thành 1 chiều: \", reshaped_arr)"
   ]
  },
  {
   "cell_type": "code",
   "execution_count": 25,
   "id": "3781de52-e719-47ce-a617-3c5a4fa342d2",
   "metadata": {},
   "outputs": [
    {
     "name": "stdout",
     "output_type": "stream",
     "text": [
      "Cắt phần tử 1 đến phần tử 3:  [3 5 7]\n"
     ]
    }
   ],
   "source": [
    "arr = np.array([1, 3, 5, 7, 9])\n",
    "\n",
    "array_slice = arr[1:4]\n",
    "print(\"Cắt phần tử 1 đến phần tử 3: \", array_slice)"
   ]
  },
  {
   "cell_type": "code",
   "execution_count": 26,
   "id": "88e28118-49b5-4d43-bd49-f08ecccdbfca",
   "metadata": {},
   "outputs": [
    {
     "name": "stdout",
     "output_type": "stream",
     "text": [
      "Cắt phần tử 1 đến phần tử cuối - 1: [1 3 5 7]\n"
     ]
    }
   ],
   "source": [
    "array_slice = arr[:-1]\n",
    "print(\"Cắt phần tử 1 đến phần tử cuối - 1:\", array_slice)"
   ]
  },
  {
   "cell_type": "code",
   "execution_count": 27,
   "id": "645e7bf7-003f-4bbc-891b-32b77821f91a",
   "metadata": {},
   "outputs": [
    {
     "name": "stdout",
     "output_type": "stream",
     "text": [
      "Cắt phần tử 3 tính từ cuối mảng đến hết: [5 7 9]\n"
     ]
    }
   ],
   "source": [
    "array_slice = arr[-3:]\n",
    "print(\"Cắt phần tử 3 tính từ cuối mảng đến hết:\", array_slice)"
   ]
  },
  {
   "cell_type": "code",
   "execution_count": 30,
   "id": "93f45802-3d3a-4342-94a6-01a9503f043c",
   "metadata": {},
   "outputs": [
    {
     "name": "stdout",
     "output_type": "stream",
     "text": [
      "Hoán đổi hàng thành cột:\n",
      "[[1 4]\n",
      " [2 5]\n",
      " [3 6]]\n"
     ]
    }
   ],
   "source": [
    "arr = np.array([[1, 2, 3], [4, 5, 6]])\n",
    "transposed_arr = arr.T\n",
    "print(\"Hoán đổi hàng thành cột:\")\n",
    "print(transposed_arr)"
   ]
  },
  {
   "cell_type": "code",
   "execution_count": 31,
   "id": "58b85c17-5fcb-490d-afe7-55174cd6f4d0",
   "metadata": {},
   "outputs": [
    {
     "name": "stdout",
     "output_type": "stream",
     "text": [
      "Nối mảng:  [2 4 6 1 3 5]\n"
     ]
    }
   ],
   "source": [
    "arr1 = np.array([2, 4, 6])\n",
    "arr2 = np.array([1, 3, 5])\n",
    "new_arr = np.concatenate((arr1, arr2))\n",
    "print(\"Nối mảng: \", new_arr)"
   ]
  },
  {
   "cell_type": "code",
   "execution_count": 32,
   "id": "3c96f231-102d-407a-a697-e2d01884b5a7",
   "metadata": {},
   "outputs": [
    {
     "name": "stdout",
     "output_type": "stream",
     "text": [
      "Tổng của mảng: 15\n"
     ]
    }
   ],
   "source": [
    "arr = np.array([1, 2, 3, 4, 5])\n",
    "sum_array = np.sum(arr)\n",
    "print(\"Tổng của mảng:\", sum_array)"
   ]
  },
  {
   "cell_type": "code",
   "execution_count": 33,
   "id": "1c536287-5c3a-4eaf-9f31-58b353b716c0",
   "metadata": {},
   "outputs": [
    {
     "name": "stdout",
     "output_type": "stream",
     "text": [
      "Giá trị trung bình của mảng: 3.0\n"
     ]
    }
   ],
   "source": [
    "average = np.mean(arr)\n",
    "print(\"Giá trị trung bình của mảng:\", average)"
   ]
  },
  {
   "cell_type": "code",
   "execution_count": 34,
   "id": "eb4f57dc-f7b4-4bb3-ba73-3dbd4f8cabfa",
   "metadata": {},
   "outputs": [
    {
     "name": "stdout",
     "output_type": "stream",
     "text": [
      "Giá trị lớn nhất: 5\n",
      "Giá trị nhỏ nhất: 1\n"
     ]
    }
   ],
   "source": [
    "max = np.max(arr)\n",
    "min = np.min(arr)\n",
    "print(\"Giá trị lớn nhất:\", max)\n",
    "print(\"Giá trị nhỏ nhất:\", min)"
   ]
  },
  {
   "cell_type": "code",
   "execution_count": 36,
   "id": "58c317ee-56a4-4dcb-b24d-bd1ce3672e41",
   "metadata": {},
   "outputs": [
    {
     "name": "stdout",
     "output_type": "stream",
     "text": [
      "Độ lệch chuẩn của mảng: 1.4142135623730951\n"
     ]
    }
   ],
   "source": [
    "std = np.std(arr)\n",
    "print(\"Độ lệch chuẩn của mảng:\", std)"
   ]
  },
  {
   "cell_type": "code",
   "execution_count": 37,
   "id": "9275e938-b9fc-489d-a0bc-08e4d9cbc4d7",
   "metadata": {},
   "outputs": [
    {
     "name": "stdout",
     "output_type": "stream",
     "text": [
      "Phương sai của mảng: 2.0\n"
     ]
    }
   ],
   "source": [
    "variance = np.var(arr)\n",
    "print(\"Phương sai của mảng:\", variance)"
   ]
  },
  {
   "cell_type": "code",
   "execution_count": 38,
   "id": "9b0c4033-f322-45e5-98cc-b6530b5b22d0",
   "metadata": {},
   "outputs": [
    {
     "name": "stdout",
     "output_type": "stream",
     "text": [
      "Tổng tích chập của hai mảng: 32\n"
     ]
    }
   ],
   "source": [
    "arr1 = np.array([1, 2, 3])\n",
    "arr2 = np.array([4, 5, 6])\n",
    "dot_product = np.dot(arr1, arr2)\n",
    "print(\"Tổng tích chập của hai mảng:\", dot_product)"
   ]
  }
 ],
 "metadata": {
  "kernelspec": {
   "display_name": "Python 3 (ipykernel)",
   "language": "python",
   "name": "python3"
  },
  "language_info": {
   "codemirror_mode": {
    "name": "ipython",
    "version": 3
   },
   "file_extension": ".py",
   "mimetype": "text/x-python",
   "name": "python",
   "nbconvert_exporter": "python",
   "pygments_lexer": "ipython3",
   "version": "3.12.4"
  }
 },
 "nbformat": 4,
 "nbformat_minor": 5
}
