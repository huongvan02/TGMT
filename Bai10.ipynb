{
 "cells": [
  {
   "cell_type": "code",
   "execution_count": 1,
   "id": "43b0b1a8-44c2-4930-860d-24051dadc48b",
   "metadata": {},
   "outputs": [],
   "source": [
    "from PIL import Image\n",
    "import matplotlib.pyplot as plt"
   ]
  },
  {
   "cell_type": "code",
   "execution_count": 2,
   "id": "7d447525-f3ed-42f1-86c4-005caba90efc",
   "metadata": {},
   "outputs": [
    {
     "name": "stdout",
     "output_type": "stream",
     "text": [
      "[(321.6168831168832, 92.22727272727275), (157.13636363636363, 192.6818181818182), (106.35714285714283, 299.7597402597403)]\n"
     ]
    }
   ],
   "source": [
    "src = 'D:/Image_TGMT/img06.jpg'\n",
    "img = Image.open(src)\n",
    "plt.switch_backend('tkagg')\n",
    "plt.imshow(img)\n",
    "points = plt.ginput(3)\n",
    "\n",
    "print(points)\n",
    "\n",
    "plt.show()"
   ]
  },
  {
   "cell_type": "code",
   "execution_count": null,
   "id": "0b688bd1-6af6-427b-bcb8-e6c4dfb35cd7",
   "metadata": {},
   "outputs": [],
   "source": [
    "plt.close()\n",
    "\n",
    "plt.imshow(img)\n",
    "for point in points:\n",
    "    x, y = point\n",
    "    plt.plot(x,y, 'r*')\n",
    "\n",
    "plt.show()"
   ]
  }
 ],
 "metadata": {
  "kernelspec": {
   "display_name": "Python 3 (ipykernel)",
   "language": "python",
   "name": "python3"
  },
  "language_info": {
   "codemirror_mode": {
    "name": "ipython",
    "version": 3
   },
   "file_extension": ".py",
   "mimetype": "text/x-python",
   "name": "python",
   "nbconvert_exporter": "python",
   "pygments_lexer": "ipython3",
   "version": "3.12.4"
  }
 },
 "nbformat": 4,
 "nbformat_minor": 5
}
