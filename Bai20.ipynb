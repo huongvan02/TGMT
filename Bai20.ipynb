{
 "cells": [
  {
   "cell_type": "code",
   "execution_count": 1,
   "id": "560cab3b-e737-4355-8e42-746e8c107c86",
   "metadata": {},
   "outputs": [],
   "source": [
    "import cv2\n",
    "import numpy as np"
   ]
  },
  {
   "cell_type": "code",
   "execution_count": 2,
   "id": "f93537e6-6d9c-4f4e-9551-c7e314d27580",
   "metadata": {},
   "outputs": [],
   "source": [
    "def display(title, img):\n",
    "    cv2.imshow(title, img)\n",
    "    cv2.waitKey(0)\n",
    "    cv2.destroyWindow(title)"
   ]
  },
  {
   "cell_type": "code",
   "execution_count": 4,
   "id": "4202f531-1324-4b2a-9bc5-85dcd7d1b9ae",
   "metadata": {},
   "outputs": [],
   "source": [
    "img =  np.zeros((400, 400, 3), dtype=np.uint8)\n",
    "display('Image', img)"
   ]
  },
  {
   "cell_type": "code",
   "execution_count": 5,
   "id": "dd4949f8-b9ee-4de5-8305-a556b1e868f4",
   "metadata": {},
   "outputs": [],
   "source": [
    "cv2.line(img, (50, 50) , (350, 50), (0,0,255), 2)\n",
    "display('Image', img)"
   ]
  },
  {
   "cell_type": "code",
   "execution_count": 7,
   "id": "70985f94-e0e7-4296-9937-7da5e67a42d1",
   "metadata": {},
   "outputs": [],
   "source": [
    "cv2.circle(img, (100,100), 50, (0, 255, 0), -1)\n",
    "display('Image', img)"
   ]
  },
  {
   "cell_type": "code",
   "execution_count": 8,
   "id": "1ebd9f39-b27c-46b0-b58f-f352db0a6336",
   "metadata": {},
   "outputs": [],
   "source": [
    "cv2.rectangle(img, (100,100),(300,300), (255, 0, 0), -1)\n",
    "display('Image', img)"
   ]
  },
  {
   "cell_type": "code",
   "execution_count": 9,
   "id": "1a2ad4f0-25ad-4a5b-8501-b0e8a757ae77",
   "metadata": {},
   "outputs": [],
   "source": [
    "content = 'Nguyen Van Huong'\n",
    "font = cv2.FONT_HERSHEY_SIMPLEX\n",
    "cv2.putText(img, content, (10, 380), font, 0.6, (255, 255, 255), 2)\n",
    "display('Image', img)"
   ]
  },
  {
   "cell_type": "code",
   "execution_count": null,
   "id": "9ec1dff3-c689-4bfd-8e66-6a886f91e320",
   "metadata": {},
   "outputs": [],
   "source": []
  }
 ],
 "metadata": {
  "kernelspec": {
   "display_name": "Python 3 (ipykernel)",
   "language": "python",
   "name": "python3"
  },
  "language_info": {
   "codemirror_mode": {
    "name": "ipython",
    "version": 3
   },
   "file_extension": ".py",
   "mimetype": "text/x-python",
   "name": "python",
   "nbconvert_exporter": "python",
   "pygments_lexer": "ipython3",
   "version": "3.12.4"
  }
 },
 "nbformat": 4,
 "nbformat_minor": 5
}
