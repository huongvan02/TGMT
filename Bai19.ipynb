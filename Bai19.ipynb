{
 "cells": [
  {
   "cell_type": "code",
   "execution_count": 2,
   "id": "92239189-61cd-4434-9a13-aa9cb56ac06c",
   "metadata": {},
   "outputs": [],
   "source": [
    "#!pip install opencv-python"
   ]
  },
  {
   "cell_type": "code",
   "execution_count": 4,
   "id": "261c6d20-7ff3-4819-99ed-0ca9b258f02f",
   "metadata": {},
   "outputs": [],
   "source": [
    "def display(title, img):\n",
    "    cv2.imshow(title, img)\n",
    "    cv2.waitKey(0)\n",
    "    cv2.destroyWindow(title)"
   ]
  },
  {
   "cell_type": "code",
   "execution_count": 5,
   "id": "1023eed9-4e4f-425c-a5fb-1a18b902b5df",
   "metadata": {},
   "outputs": [],
   "source": [
    "import cv2"
   ]
  },
  {
   "cell_type": "code",
   "execution_count": 6,
   "id": "e437bcf5-eea3-4ffd-83f2-dd9670c08e64",
   "metadata": {},
   "outputs": [
    {
     "name": "stdout",
     "output_type": "stream",
     "text": [
      "[[[246 116   3]\n",
      "  [246 116   3]\n",
      "  [246 116   3]\n",
      "  ...\n",
      "  [246 125   2]\n",
      "  [246 125   2]\n",
      "  [246 125   2]]\n",
      "\n",
      " [[246 116   3]\n",
      "  [246 116   3]\n",
      "  [246 116   3]\n",
      "  ...\n",
      "  [246 125   2]\n",
      "  [246 125   2]\n",
      "  [246 125   2]]\n",
      "\n",
      " [[246 116   3]\n",
      "  [246 116   3]\n",
      "  [246 116   3]\n",
      "  ...\n",
      "  [246 125   2]\n",
      "  [246 125   2]\n",
      "  [246 125   2]]\n",
      "\n",
      " ...\n",
      "\n",
      " [[165 151  99]\n",
      "  [165 151  99]\n",
      "  [166 152 103]\n",
      "  ...\n",
      "  [237 197 169]\n",
      "  [236 196 168]\n",
      "  [236 196 168]]\n",
      "\n",
      " [[155 147  94]\n",
      "  [156 148  95]\n",
      "  [155 148  98]\n",
      "  ...\n",
      "  [237 197 169]\n",
      "  [236 196 168]\n",
      "  [236 196 168]]\n",
      "\n",
      " [[147 145  91]\n",
      "  [148 146  92]\n",
      "  [149 146  95]\n",
      "  ...\n",
      "  [237 197 169]\n",
      "  [236 196 168]\n",
      "  [236 196 168]]]\n"
     ]
    }
   ],
   "source": [
    "path= 'D:/Image_TGMT/img05.jpg'\n",
    "img = cv2.imread(path)\n",
    "print(img)"
   ]
  },
  {
   "cell_type": "code",
   "execution_count": 7,
   "id": "f80b5e29-aa49-427b-9d90-bc816031611d",
   "metadata": {},
   "outputs": [
    {
     "name": "stdout",
     "output_type": "stream",
     "text": [
      "(612, 612, 3)\n",
      "612\n",
      "612\n",
      "3\n"
     ]
    }
   ],
   "source": [
    "print(img.shape)\n",
    "x, y, z = img.shape\n",
    "print(x)\n",
    "print(y)\n",
    "print(z)"
   ]
  },
  {
   "cell_type": "code",
   "execution_count": 8,
   "id": "6a16025c-0099-48ae-b62e-e20662e6d6ab",
   "metadata": {},
   "outputs": [],
   "source": [
    "cv2.imshow('Window', img)\n",
    "cv2.waitKey(10000)\n",
    "cv2.destroyWindow('Window')"
   ]
  },
  {
   "cell_type": "code",
   "execution_count": 9,
   "id": "6ef07cb3-63d7-4979-b885-854a120b0782",
   "metadata": {},
   "outputs": [],
   "source": [
    "b, g, r = cv2.split(img)\n",
    "cv2.imshow('Window', img)\n",
    "cv2.imshow('Red', r)\n",
    "cv2.imshow('Green', g)\n",
    "cv2.imshow('Blue', b)\n",
    "\n",
    "cv2.waitKey(0)\n",
    "cv2.destroyAllWindows()"
   ]
  },
  {
   "cell_type": "code",
   "execution_count": 10,
   "id": "02b182c4-be85-4c0e-989f-9e7c71d03564",
   "metadata": {},
   "outputs": [],
   "source": [
    "gray_img = cv2.cvtColor(img, cv2.COLOR_BGR2GRAY)\n",
    "img_2 = cv2.cvtColor(img, cv2.COLOR_BGR2RGB)\n",
    "cv2.imshow('Window', img)\n",
    "cv2.imshow('gray_img', gray_img)\n",
    "cv2.imshow('img_2', img_2)\n",
    "\n",
    "cv2.waitKey(0)\n",
    "cv2.destroyAllWindows()"
   ]
  },
  {
   "cell_type": "code",
   "execution_count": 14,
   "id": "9be0346e-9f67-4bcd-afdf-2ccccc21b1ff",
   "metadata": {},
   "outputs": [],
   "source": [
    "height, width, z = img.shape\n",
    "quater_h = height/2\n",
    "quater_w = width/2\n",
    "\n",
    "green_color = (0,255,0)\n",
    "img2 = img.copy()\n",
    "\n",
    "for y in range(int(quater_h)):\n",
    "    for x in range(int(quater_w)):\n",
    "        img2[y, x] = green_color\n",
    "\n",
    "display('Window', img)\n",
    "display('Window-2', img2)"
   ]
  },
  {
   "cell_type": "code",
   "execution_count": null,
   "id": "86c615f3-7c05-40ea-aafb-975eace435a2",
   "metadata": {},
   "outputs": [],
   "source": []
  }
 ],
 "metadata": {
  "kernelspec": {
   "display_name": "Python 3 (ipykernel)",
   "language": "python",
   "name": "python3"
  },
  "language_info": {
   "codemirror_mode": {
    "name": "ipython",
    "version": 3
   },
   "file_extension": ".py",
   "mimetype": "text/x-python",
   "name": "python",
   "nbconvert_exporter": "python",
   "pygments_lexer": "ipython3",
   "version": "3.12.4"
  }
 },
 "nbformat": 4,
 "nbformat_minor": 5
}
